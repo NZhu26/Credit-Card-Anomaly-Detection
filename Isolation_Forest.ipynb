{
 "cells": [
  {
   "cell_type": "markdown",
   "id": "aa66b9c7-238a-4c64-b460-f89151ec8d05",
   "metadata": {},
   "source": [
    "Initializing and cleaning the [Credit Card Fraud Detection Dataset](https://www.kaggle.com/datasets/mlg-ulb/creditcardfraud?select=creditcard.csv) from download directory that was downloaded from Kaggle. "
   ]
  },
  {
   "cell_type": "code",
   "execution_count": 1,
   "id": "d2a78fcb-d50c-48e2-a0d4-f64ec5149e13",
   "metadata": {},
   "outputs": [
    {
     "name": "stdout",
     "output_type": "stream",
     "text": [
      "[]\n"
     ]
    }
   ],
   "source": [
    "import pandas as pd\n",
    "import numpy as np\n",
    "#file path to credit card csv file\n",
    "file_path = os.path.join(os.path.expanduser(\"~\"), \"Downloads\", \"creditcard.csv\")\n",
    "df = pd.read_csv(file_path) #read csv file as pandas object\n",
    "CC_data = df.to_numpy() #CC_data will contain the Credit Card Fraud detection dataset as a numpy object\n",
    "NaN_instances = []\n",
    "#checking for NaN values in the dataset\n",
    "for instance in CC_data:\n",
    "    for datapoint in instance:\n",
    "        if np.isnan(datapoint):\n",
    "            NaN_instances.append(datapoint)\n",
    "print(NaN_instances) #No NaN values so no need to clean up data"
   ]
  },
  {
   "cell_type": "markdown",
   "id": "9678a97d-73ae-4d09-9057-45cbc5989293",
   "metadata": {},
   "source": [
    "# Isolation Tree\n",
    "We will be using an isolation tree to detect anomalies in our Credit Card Fraud Detection Dataset. To do this, we will be following these steps: \n",
    "\n",
    "<strong>Isolation Tree Node:</strong>\n",
    "- Define a isolation Tree Node for the building blocks of our isolation tree\n",
    "- Will contain instance variables to keep track of depth, attributes, split values, leaf indicator and a left/right child\n",
    "\n",
    "<strong>Isolation Tree:</strong>\n",
    "- Define a tree that will recursively create our tree using our isolation tree node objects\n",
    "- This will select a random feature from the dataset\n",
    "- Given the random feature, our method will also randomly pick a split value within the proper range\n",
    "- Then, we will partition our data into two subsets based on our feature and feature split value. All instances with feature values less than split value go to left child node, and the rest of the instances going right\n",
    "- Keep partitioning and recursively creating nodes until max-depth is reached(most likely will reach max deoth) or all instances are split into leaves\n",
    "\n",
    "<strong>Path Length Calculation:</strong>\n",
    "- Create a method that will calculate the average path length from root to leaf. This average will represent the function c(n) with n being the number of leaf nodes.\n",
    "\n",
    "<strong>Instance Depth Score:</strong>\n",
    "- Given an instance, find the depth the instance travels down the isolation tree. This will represent the function h(x) with x representing the instance.\n",
    "\n",
    "<strong>Anomaly Score Method:</strong>\n",
    "- With c(n) representing the average path length from root to all leaves in a tree, and h(x) being the depth the instance travels down the isolation tree, we can use these to calculate an anomaly score. The formula we will be using is: S(x,n) = 2<sup>-(c(n)/h(x))</sup> \n",
    "- As you can see, if our instance is highly anamalous, the h(x) value will be small. This is because an anamalous instance will quickly split off homogenous instances which leads to a quick isolation of the anamalous instance, thus having a small depth. \n",
    "- The c(n) value will tend to be much higher than our h(x) value for anamalous instances because the average depth of an isolation tree should be large relative to the depth of an anamalous instance\n",
    "- So if our h(x) is very low and our c(n) is very high, this should tell us that our instance is highly likely to be an anamoly. And as you can see, as h(x) decreases and c(n) increases, -(c(n)/h(x)) converge to -inf. So as this value converges to -inf, S(x,n) will converge to 0. This tells us that highly anamalous instances will be closer to the value 0, while a homogenous instance will be close to the value 1.\n",
    "\n",
    "\n",
    "\n",
    "\n",
    "\n",
    "\n"
   ]
  },
  {
   "cell_type": "markdown",
   "id": "37a4a7db-1abe-400b-90b8-b281a2c952f4",
   "metadata": {},
   "source": [
    "<strong>Isolation Tree Node</strong>"
   ]
  },
  {
   "cell_type": "code",
   "execution_count": 65,
   "id": "4e86a3b6-39d1-4e67-b103-3a1f98d9203d",
   "metadata": {},
   "outputs": [],
   "source": [
    "# first we define a tree-node type\n",
    "class IsolationTreeNode:\n",
    "    # constructor sets up members\n",
    "    def __init__(self, isLeaf, attributeSplit, splitValue, curDepth):\n",
    "        #indicates if node is a leaf this will happen if maxDepth is reached or there is only one instance in our dataset\n",
    "        self.isLeaf = isLeaf \n",
    "        #the random attribute we are splitting on\n",
    "        self.attributeSplit = attributeSplit\n",
    "        #this will be a random value of the random random that will divide the data into two different sets\n",
    "        self.splitValue = splitValue\n",
    "        #current depth of the current node\n",
    "        self.curDepth = curDepth\n",
    "        self.left_child = None\n",
    "        self.right_child = None\n",
    "        \n",
    "        "
   ]
  },
  {
   "cell_type": "markdown",
   "id": "0b0c6049-367a-4763-b4d0-8df58e9c6402",
   "metadata": {},
   "source": [
    "<strong>Isolation Tree</strong>\n",
    "- Here we are defining an isolation tree class\n",
    "- __init__ will intiliaze the models training data, the tree's maximum depth, and the root node for the tree\n",
    "- createIsolationTree() will create the tree by recursively splitting the training data given a random feature and random split value. This will continue to create left and right nodes per split until a dataset is size 1 or if we've reached maximum depth. (returns root node)\n",
    "- averageDepth() will average all the depths from root to all leaves, then return the average\n",
    "- instanceDepth() will return the depth of a given instance\n",
    "- anamolyScore() will return the anamoly score of a given instance. As stated before, we will use this formula S(x,n) = 2<sup>-(c(n)/h(x))</sup> to calculate the anamoly score"
   ]
  },
  {
   "cell_type": "code",
   "execution_count": 3,
   "id": "78ab30c2-2e3f-427a-838c-569accaf57ff",
   "metadata": {},
   "outputs": [],
   "source": [
    "import random\n",
    "class IsolationTree:\n",
    "    def __init__(self, data, maxDepth):\n",
    "        self.data = data #initialize data\n",
    "        self.maxDepth = maxDepth #intialize max depth\n",
    "        self.root = IsolationTreeNode(False, None, None, 0) #intialize root node\n",
    "        \n",
    "    def createIsolationTree(self, curDepth = None, data = None, node = None):\n",
    "        #set variables to intialized values when we call\n",
    "        curDepth = curDepth if curDepth is not None else 0\n",
    "        data = data if data is not None else self.data\n",
    "        node = node if node is not None else self.root\n",
    "        #Base case is when we reach maximum desired depth or only one value in our dataset\n",
    "        if curDepth == self.maxDepth or len(data) ==1:\n",
    "            node.isLeaf = True\n",
    "            return node\n",
    "        #random feature selected by picking a random column index of data (data should not include labels)\n",
    "        randFeature = random.randrange(len(data[0]))\n",
    "        minFeatureValue = float('inf')\n",
    "        maxFeatureValue = float('-inf')\n",
    "        #finding min and max values of randomly chosen feature of all instances in the dataset\n",
    "        for instance in data:\n",
    "            minFeatureValue = min(minFeatureValue, instance[randFeature])\n",
    "            maxFeatureValue = max(maxFeatureValue, instance[randFeature])\n",
    "        #picking random split value within the bounds of the min and max feature value\n",
    "        randSplitValue = random.uniform(minFeatureValue, maxFeatureValue)\n",
    "\n",
    "        leftData = []\n",
    "        rightData = []\n",
    "        #append all instances with feature values greater than the split value to right data and vice verca\n",
    "        for instance in data:\n",
    "            if instance[randFeature]>randSplitValue:\n",
    "                rightData.append(instance)\n",
    "            else:\n",
    "                leftData.append(instance)\n",
    "        \n",
    "        if not leftData or not rightData: #figure out what we should do about duplicates\n",
    "            node.isLeaf = True\n",
    "            return node\n",
    "        \n",
    "        leftData = np.array(leftData)\n",
    "        rightData = np.array(rightData)\n",
    "        node.attributeSplit = randFeature #indicate what attribute node split by\n",
    "        node.splitValue = randSplitValue #indicate value node split the data by\n",
    "        #recursively call for left and right child with left and right data\n",
    "        node.left_child = self.createIsolationTree(curDepth+1, leftData, IsolationTreeNode(False, None, None, curDepth+1))\n",
    "        node.right_child = self.createIsolationTree(curDepth+1, rightData, IsolationTreeNode(False, None, None, curDepth+1))\n",
    "        if node == self.root:\n",
    "            self.root = node\n",
    "        return node\n",
    "    #calculate average depth from root to all leaves\n",
    "    def averageDepth(self, node = None, depthSum = [0 , 0]):\n",
    "        node = node if node is not None else self.root\n",
    "        if node.isLeaf:\n",
    "            depthSum[0]+=node.curDepth #sum all the depths of leaves and store in 0th index\n",
    "            depthSum[1]+=1 #accumulate number of leaves and store is 1st index\n",
    "            return\n",
    "        self.averageDepth(node.left_child, depthSum)\n",
    "        self.averageDepth(node.right_child, depthSum)\n",
    "        if node == self.root:\n",
    "            return depthSum[0]/depthSum[1] #if root, we have found all leaves so return average\n",
    "            \n",
    "    #calculating the depth for the specific instance\n",
    "    def instanceDepth(self, instance, node = None):\n",
    "        node = node if node is not None else self.root\n",
    "        #base case is when we encounte a leaf, here we will finally return the depth\n",
    "        if node.isLeaf:\n",
    "            return node.curDepth\n",
    "        feature = node.attributeSplit\n",
    "        splitValue = node.splitValue\n",
    "        # if our feature value is greater than split value, go to right child, else, go to left child\n",
    "        if instance[feature]>splitValue:\n",
    "            x = self.instanceDepth(instance, node.right_child)\n",
    "            return x\n",
    "        else:\n",
    "            y = self.instanceDepth(instance, node.left_child)\n",
    "            return y\n",
    "    def anamolyScore(self, instance):\n",
    "        return 2**-(self.averageDepth()/self.instanceDepth(instance))\n",
    "    "
   ]
  },
  {
   "cell_type": "markdown",
   "id": "9160b5ad-4fc1-4fa6-9195-2062e4640333",
   "metadata": {},
   "source": [
    "<strong>Isolation Forest</strong>\n",
    "- __init__ will initialize the forest size, max depth, the number of features each tree will take in, and the percent of data each tree will contain\n",
    "- createForest() will create each tree given a random subset of features and instances, and store the IsolationTree objects in an array\n",
    "- averageDepth() will calculate the average depth of all average depths of the trees in the array\n",
    "- instanceDepth() will calculate the average depth of an instance across all trees\n",
    "- anamolyScore() will calculate the anomaly score given our instanceDepth() and averageDepth() method"
   ]
  },
  {
   "cell_type": "code",
   "execution_count": 1,
   "id": "16c1dcf0-1fbb-43eb-8655-5ad061f0e09b",
   "metadata": {},
   "outputs": [],
   "source": [
    "class IsolationForest:\n",
    "    def __init__(self, forestSize, maxDepth, numFeatures=.5, percentOfData = .2):\n",
    "        self.forestSize = forestSize\n",
    "        self.maxDepth = maxDepth\n",
    "        self.numFeatures = .5\n",
    "        self.forest = []\n",
    "        self.percentOfData = percentOfData\n",
    "        \n",
    "    def createForest(self, data):\n",
    "        forest = []\n",
    "        for i in range(self.forestSize):\n",
    "            random_indices = np.random.choice(data.shape[0], size=int(self.percentOfData*data.shape[0]), replace=True)\n",
    "            tempData = data[random_indices]\n",
    "            for i in range(len(tempData[0]) - int(self.numFeatures*len(data[0]))):\n",
    "                randFeature = random.randrange(len(tempData[0]))\n",
    "                tempData = np.delete(tempData, randFeature, 1)    \n",
    "            tree = IsolationTree(tempData, self.maxDepth)\n",
    "            tree.createIsolationTree()\n",
    "            forest.append(tree)\n",
    "        self.forest = forest\n",
    "    def averageDepth(self):\n",
    "        if not self.forest:\n",
    "            print(\"Please create forest\")\n",
    "            return\n",
    "        totalDepth = 0\n",
    "        for tree in self.forest:\n",
    "            totalDepth+=tree.averageDepth()\n",
    "        return totalDepth/len(self.forest)\n",
    "    def averageInstanceDepth(self, instance):\n",
    "        if not self.forest:\n",
    "            print(\"Please create forest\")\n",
    "            return\n",
    "        totalInstanceDepth = 0\n",
    "        for tree in self.forest:\n",
    "            totalInstanceDepth+=tree.instanceDepth(instance)\n",
    "        return totalInstanceDepth/len(self.forest)\n",
    "    def anamolyScore(self, instance):\n",
    "        return 2**-(self.averageDepth()/self.averageInstanceDepth(instance))"
   ]
  },
  {
   "cell_type": "markdown",
   "id": "b108a152-ca6f-44b6-8008-543ce99de252",
   "metadata": {},
   "source": [
    "<strong>Testing</strong>\n",
    "- First, we randomly sample data from our dataset then remove the labels so we can pass it to our isolation forest (unsupervised learning so labels not needed)\n",
    "- We then created a forest with the number of tree being 100, maximum depth being 50, number of features being 20, and the percent of data for each tree being 30%\n",
    "- We then randomly sample for our testing set\n",
    "- We then run anamolyScore() for each instance of our testing set and store the anamoly scores in 'anamolyScores'\n",
    "- we then plot a histogram of our anamoly scores, and we see that the anamoly scores follow a normal distribution\n",
    "- We also plot a Q-Q plot to confirm that our anamoly scores follow a normal distribution\n",
    "- Because our scores follow a normal distribution, we can use z-scores to indicate how much of a anamoly score is an outlier"
   ]
  },
  {
   "cell_type": "code",
   "execution_count": 22,
   "id": "fd181f93-efe4-47df-ad35-b51cd1a8a886",
   "metadata": {},
   "outputs": [
    {
     "data": {
      "image/png": "[encoded data removed]",
      "text/plain": [
       "<Figure size 640x480 with 1 Axes>"
      ]
     },
     "metadata": {},
     "output_type": "display_data"
    },
    {
     "data": {
      "image/png": "[encoded data removed]",
      "text/plain": [
       "<Figure size 640x480 with 1 Axes>"
      ]
     },
     "metadata": {},
     "output_type": "display_data"
    },
    {
     "data": {
      "image/png": "[encoded data removed]",
      "text/plain": [
       "<Figure size 640x480 with 1 Axes>"
      ]
     },
     "metadata": {},
     "output_type": "display_data"
    }
   ],
   "source": [
    "import matplotlib.pyplot as plt\n",
    "import scipy.stats as stats\n",
    "import math\n",
    "import statistics\n",
    "\n",
    "feature_CC = CC_data[np.random.choice(CC_data.shape[0], 20000, replace=True)]\n",
    "feature_CC = np.array([arr[:-1] for arr in feature_CC])       \n",
    "dummyForest = IsolationForest(100, 50, 20, 0.3)\n",
    "dummyForest.createForest(feature_CC)\n",
    "test =  CC_data[np.random.choice(CC_data.shape[0], 10000, replace=True)]\n",
    "anamolyScores = []\n",
    "for instance in test:\n",
    "    score = dummyForest.anamolyScore(instance)\n",
    "    anamolyScores.append(score)\n",
    "sigma = statistics.stdev(anamolyScores)\n",
    "mu = statistics.mean(anamolyScores)\n",
    "\n",
    "\n",
    "anamolyScores = np.array(anamolyScores)\n",
    "plt.hist(anamolyScores, density=True, bins=30)  # density=False would make counts\n",
    "plt.ylabel('Probability')\n",
    "plt.xlabel('Data')\n",
    "plt.show()\n",
    "\n",
    "\n",
    "stats.probplot(anamolyScores, dist=\"norm\", plot=plt)\n",
    "plt.title('Q-Q Plot')\n",
    "plt.show()\n",
    "\n",
    "\n",
    "x = np.linspace(mu - 3*sigma, mu + 3*sigma, 100)\n",
    "plt.plot(x, stats.norm.pdf(x, mu, sigma))\n",
    "plt.show()\n"
   ]
  },
  {
   "cell_type": "markdown",
   "id": "4f7767bf-b09f-4ca0-b4fd-256d9205ace4",
   "metadata": {},
   "source": [
    "<strong>Accuracy</strong>\n",
    "- Given the testing set, the anamoly scores, a threshold value, the mean of the scores, and the standard deviation of the scores, we can calculate the total accuracy and accuracy of classifying fraudelent instances\n",
    "- This is done by calculating the z-score of each instance, and if the z-score crosses a certain threshold, we can classify it as fraudelent, else, it is a valid transaction\n",
    "- In this case, we use a treshold of value -5.2. This was handpicked by us, but we will need to find the optimized threshold value. We will do this when we implement grid search cv to find the best hyperparemeters"
   ]
  },
  {
   "cell_type": "code",
   "execution_count": 2,
   "id": "51b5363d-b7dd-4409-9bf6-3a4d5e1e4896",
   "metadata": {},
   "outputs": [
    {
     "name": "stdout",
     "output_type": "stream",
     "text": [
      "Percent of correct classification in testing set:\n"
     ]
    },
    {
     "ename": "NameError",
     "evalue": "name 'test' is not defined",
     "output_type": "error",
     "traceback": [
      "\u001b[0;31m---------------------------------------------------------------------------\u001b[0m",
      "\u001b[0;31mNameError\u001b[0m                                 Traceback (most recent call last)",
      "Input \u001b[0;32mIn [2]\u001b[0m, in \u001b[0;36m<cell line: 13>\u001b[0;34m()\u001b[0m\n\u001b[1;32m     11\u001b[0m     \u001b[38;5;28;01mreturn\u001b[39;00m numRight\u001b[38;5;241m/\u001b[39m\u001b[38;5;28mlen\u001b[39m(test)\n\u001b[1;32m     12\u001b[0m \u001b[38;5;28mprint\u001b[39m(\u001b[38;5;124m\"\u001b[39m\u001b[38;5;124mPercent of correct classification in testing set:\u001b[39m\u001b[38;5;124m\"\u001b[39m)\n\u001b[0;32m---> 13\u001b[0m \u001b[38;5;28mprint\u001b[39m(totalAccuracy(\u001b[43mtest\u001b[49m, anamolyScores, \u001b[38;5;241m-\u001b[39m\u001b[38;5;241m5.2\u001b[39m, mu, sigma))\n\u001b[1;32m     16\u001b[0m \u001b[38;5;28;01mdef\u001b[39;00m \u001b[38;5;21mrecall\u001b[39m(labels, anamolyScores, threshold, mu, sigma):\n\u001b[1;32m     17\u001b[0m     TruePositive \u001b[38;5;241m=\u001b[39m \u001b[38;5;241m0\u001b[39m\n",
      "\u001b[0;31mNameError\u001b[0m: name 'test' is not defined"
     ]
    }
   ],
   "source": [
    "def totalAccuracy(test, anamolyScores, threshold, mu, sigma):\n",
    "    numRight = 0\n",
    "    for i in range(len(test)):\n",
    "        z = (anamolyScores[i]- mu) / sigma\n",
    "        if z<=threshold:\n",
    "            label = 1\n",
    "        else:\n",
    "            label =0\n",
    "        if int(test[i][-1]) == label:\n",
    "            numRight+=1\n",
    "    return numRight/len(test)\n",
    "print(\"Percent of correct classification in testing set:\")\n",
    "print(totalAccuracy(test, anamolyScores, -5.2, mu, sigma))\n",
    "\n",
    "\n",
    "def recall(labels, anamolyScores, threshold, mu, sigma):\n",
    "    TruePositive = 0\n",
    "    FalseNegative = 0\n",
    "    for i in range(len(test)):\n",
    "        z = (anamolyScores[i]- mu) / sigma\n",
    "        if z<=threshold:\n",
    "            label = 1\n",
    "        else:\n",
    "            label =0\n",
    "        if labels[i] == 1:\n",
    "            TruePositive+=1\n",
    "        if labels[i]==1 and label==0:\n",
    "            FalseNegative+=1\n",
    "    return TruePositive/(TruePositive+FalseNegative)\n",
    "\n",
    "\n",
    "\n",
    "def fraudAccuracy(test, anamolyScores, threshold, mu, sigma):\n",
    "    numFraud = 0\n",
    "    numRight = 0\n",
    "    for i in range(len(test)):\n",
    "        if int(test[i][-1]) == 1:\n",
    "            numFraud+=1\n",
    "            z = (anamolyScores[i]- mu) / sigma\n",
    "            if z<=threshold:\n",
    "                label = 1\n",
    "            else:\n",
    "                label =0\n",
    "            if int(test[i][-1]) == label:\n",
    "                numRight+=1\n",
    "    return numRight/numFraud\n",
    "print(\"Percent of fraudelent cases caught in a testing set of size 20,000:\")\n",
    "print(fraudAccuracy(test, anamolyScores, -5.2, mu, sigma))"
   ]
  }
 ],
 "metadata": {
  "kernelspec": {
   "display_name": "Python 3 (ipykernel)",
   "language": "python",
   "name": "python3"
  },
  "language_info": {
   "codemirror_mode": {
    "name": "ipython",
    "version": 3
   },
   "file_extension": ".py",
   "mimetype": "text/x-python",
   "name": "python",
   "nbconvert_exporter": "python",
   "pygments_lexer": "ipython3",
   "version": "3.10.12"
  }
 },
 "nbformat": 4,
 "nbformat_minor": 5
}
