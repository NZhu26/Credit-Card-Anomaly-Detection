{
 "cells": [
  {
   "cell_type": "code",
   "execution_count": 2,
   "id": "878076e3-5387-47a5-98ec-387fed711290",
   "metadata": {},
   "outputs": [],
   "source": [
    "import pandas as pd\n",
    "import numpy as np"
   ]
  },
  {
   "cell_type": "code",
   "execution_count": 3,
   "id": "c85e3afb-5736-4d09-a181-f2b7490b7661",
   "metadata": {},
   "outputs": [],
   "source": [
    "# Imports Mahalanobis Distance code\n",
    "%run Pipeline_Code.ipynb"
   ]
  },
  {
   "cell_type": "code",
   "execution_count": 4,
   "id": "9dca4379-3e60-4792-b540-e2b8c139379a",
   "metadata": {},
   "outputs": [],
   "source": [
    "#file path to credit card csv file\n",
    "file_path = os.path.join(os.path.expanduser(\"~\"), \"Desktop\", \"archive(2)\", \"creditcard.csv\")\n",
    "df = pd.read_csv(file_path) #read csv file as pandas object\n",
    "CC_data = df.to_numpy() #CC_data will contain the Credit Card Fraud detection dataset as a numpy object\n",
    "\n",
    "#Getting a features-only dataset\n",
    "features = CC_data[0:50000]\n",
    "\n",
    "fraud_instances = []\n",
    "for i in range(len(features)):\n",
    "    if features[i][-1] == 1:\n",
    "        fraud_instances.append(i)\n",
    "\n",
    "features = np.array([arr[:-1] for arr in features])  \n",
    "\n",
    "labels = np.array(df[\"Class\"][0:50000]) # labels\n",
    "\n",
    "#Getting a features-only dataset\n",
    "features2 = CC_data[50000:100000]\n",
    "\n",
    "fraud_instances2 = []\n",
    "for i in range(len(features)):\n",
    "    if features2[i][-1] == 1:\n",
    "        fraud_instances2.append(i)\n",
    "\n",
    "features2 = np.array([arr[:-1] for arr in features2])  \n",
    "\n",
    "labels2 = np.array(df[\"Class\"][50000:100000]) # labels"
   ]
  },
  {
   "cell_type": "code",
   "execution_count": 6,
   "id": "25b472e4-0db2-4168-92d7-cf031239b336",
   "metadata": {},
   "outputs": [
    {
     "name": "stdout",
     "output_type": "stream",
     "text": [
      "[[49736   116]\n",
      " [   89    59]]\n",
      "[[49802   123]\n",
      " [   49    26]]\n"
     ]
    }
   ],
   "source": [
    "distances = mahalanobisDistance(features, features)\n",
    "threshold = findThresholdMD(distances, labels)\n",
    "predictedTrainLabels = predictMD(threshold, features)\n",
    "print(confusionMatrixMD(labels, predictedTrainLabels))\n",
    "distances2 = mahalanobisDistance(features2, features2)\n",
    "predictedTestLabels = predictMD(threshold, features2)\n",
    "print(confusionMatrixMD(labels2, predictedTestLabels))"
   ]
  },
  {
   "cell_type": "code",
   "execution_count": 8,
   "id": "973b12da-bf80-4ea8-a22d-d85ac749f053",
   "metadata": {},
   "outputs": [
    {
     "name": "stdout",
     "output_type": "stream",
     "text": [
      "0.174496644295302\n",
      "0.3466666666666667\n",
      "0.23214285714285715\n"
     ]
    }
   ],
   "source": [
    "print(matrixScoresMD(confusionMatrixMD(labels2, predictedTestLabels), \"precision\"))\n",
    "print(matrixScoresMD(confusionMatrixMD(labels2, predictedTestLabels), \"recall\"))\n",
    "print(matrixScoresMD(confusionMatrixMD(labels2, predictedTestLabels), \"f1score\"))"
   ]
  },
  {
   "cell_type": "code",
   "execution_count": 5,
   "id": "fdb67204-6eda-4ee9-86da-da7512020c9d",
   "metadata": {},
   "outputs": [],
   "source": [
    "from numpy import random\n",
    "\n",
    "datapointIndices = random.randint(200000, size=(50000))\n",
    "\n",
    "data = df.take(datapointIndices)\n",
    "\n",
    "data = np.array(data)\n",
    "\n",
    "randomFirstSetLabels = np.array(df[\"Class\"][datapointIndices])\n",
    "\n",
    "fraud_instances3 = []\n",
    "for i in range(len(data)):\n",
    "    if data[i][-1] == 1:\n",
    "        fraud_instances3.append(i)\n",
    "\n",
    "\n",
    "randomFirstSet = np.array([arr[:-1] for arr in data])  \n",
    "\n",
    "\n",
    "\n",
    "datapointIndices2 = random.randint(200000, size=(50000))\n",
    "\n",
    "data2 = df.take(datapointIndices2)\n",
    "\n",
    "data2 = np.array(data2)\n",
    "\n",
    "randomSecondSetLabels = np.array(df[\"Class\"][datapointIndices2])\n",
    "\n",
    "fraud_instances4 = []\n",
    "for i in range(len(data)):\n",
    "    if data2[i][-1] == 1:\n",
    "        fraud_instances4.append(i)\n",
    "\n",
    "\n",
    "randomSecondSet = np.array([arr[:-1] for arr in data2])  "
   ]
  },
  {
   "cell_type": "code",
   "execution_count": 6,
   "id": "e9a18d1e-4925-4ddb-a4a4-07a88046acd4",
   "metadata": {},
   "outputs": [
    {
     "name": "stdout",
     "output_type": "stream",
     "text": [
      "[[49881     8]\n",
      " [  101    10]]\n",
      "[[49907    15]\n",
      " [   77     1]]\n"
     ]
    }
   ],
   "source": [
    "distances3 = mahalanobisDistance(randomFirstSet, randomFirstSet)\n",
    "threshold3 = findThresholdMD(distances3, randomFirstSetLabels)\n",
    "predictedTrainLabels = predictMD(threshold3, randomFirstSet)\n",
    "print(confusionMatrixMD(randomFirstSetLabels, predictedTrainLabels))\n",
    "\n",
    "predictedTestLabels = predictMD(threshold3, randomSecondSet)\n",
    "print(confusionMatrixMD(randomSecondSetLabels, predictedTestLabels))"
   ]
  },
  {
   "cell_type": "code",
   "execution_count": 6,
   "id": "3f09072a-5029-4a24-9b16-0642950d2cba",
   "metadata": {},
   "outputs": [
    {
     "name": "stdout",
     "output_type": "stream",
     "text": [
      "0.3424657534246575\n",
      "0.2808988764044944\n",
      "0.30864197530864196\n"
     ]
    }
   ],
   "source": [
    "print(matrixScoresMD(confusionMatrixMD(randomFirstSetLabels, predictedTrainLabels), \"precision\"))\n",
    "print(matrixScoresMD(confusionMatrixMD(randomFirstSetLabels, predictedTrainLabels), \"recall\"))\n",
    "print(matrixScoresMD(confusionMatrixMD(randomFirstSetLabels, predictedTrainLabels), \"f1score\"))"
   ]
  },
  {
   "cell_type": "code",
   "execution_count": null,
   "id": "09972a90-1d7b-46a3-b2a1-794b6a08bae1",
   "metadata": {},
   "outputs": [],
   "source": []
  }
 ],
 "metadata": {
  "kernelspec": {
   "display_name": "Python 3 (ipykernel)",
   "language": "python",
   "name": "python3"
  },
  "language_info": {
   "codemirror_mode": {
    "name": "ipython",
    "version": 3
   },
   "file_extension": ".py",
   "mimetype": "text/x-python",
   "name": "python",
   "nbconvert_exporter": "python",
   "pygments_lexer": "ipython3",
   "version": "3.10.12"
  }
 },
 "nbformat": 4,
 "nbformat_minor": 5
}
